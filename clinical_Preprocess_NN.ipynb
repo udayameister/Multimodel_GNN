{
  "nbformat": 4,
  "nbformat_minor": 0,
  "metadata": {
    "colab": {
      "provenance": [],
      "authorship_tag": "ABX9TyMcW1W5sIw57MquB7SNqDJh",
      "include_colab_link": true
    },
    "kernelspec": {
      "name": "python3",
      "display_name": "Python 3"
    },
    "language_info": {
      "name": "python"
    }
  },
  "cells": [
    {
      "cell_type": "markdown",
      "metadata": {
        "id": "view-in-github",
        "colab_type": "text"
      },
      "source": [
        "<a href=\"https://colab.research.google.com/github/udayameister/Multimodel_GNN/blob/main/clinical_Preprocess_NN.ipynb\" target=\"_parent\"><img src=\"https://colab.research.google.com/assets/colab-badge.svg\" alt=\"Open In Colab\"/></a>"
      ]
    },
    {
      "cell_type": "code",
      "execution_count": 48,
      "metadata": {
        "colab": {
          "base_uri": "https://localhost:8080/"
        },
        "id": "RLKi_5SleseA",
        "outputId": "05edb4f3-4f89-41b5-b1db-6d793eb103ce"
      },
      "outputs": [
        {
          "output_type": "stream",
          "name": "stderr",
          "text": [
            "<ipython-input-48-2c2df1f0ee11>:4: DtypeWarning: Columns (19,20,21,50,51,104,105,106) have mixed types. Specify dtype option on import or set low_memory=False.\n",
            "  adni_data = pd.read_csv('/content/ADNIMERGE_27Jun2024.csv')\n"
          ]
        }
      ],
      "source": [
        "import pandas as pd\n",
        "\n",
        "# Load the main merged dataset\n",
        "adni_data = pd.read_csv('/content/ADNIMERGE_27Jun2024.csv')"
      ]
    },
    {
      "cell_type": "code",
      "source": [
        "# Select relevant columns\n",
        "columns_of_interest = ['AGE', 'PTGENDER', 'PTEDUCAT', 'MMSE', 'CDRSB', 'ADAS11', 'DX']\n",
        "adni_data = adni_data[columns_of_interest]"
      ],
      "metadata": {
        "id": "rgrkNG0ifZtO"
      },
      "execution_count": 50,
      "outputs": []
    },
    {
      "cell_type": "code",
      "source": [
        "# Filter for AD and NC\n",
        "adni_data = adni_data[adni_data['DX'].isin(['AD', 'CN'])]"
      ],
      "metadata": {
        "id": "CthcMuqLfdQ8"
      },
      "execution_count": 51,
      "outputs": []
    },
    {
      "cell_type": "code",
      "source": [
        "from sklearn.preprocessing import LabelEncoder\n",
        "\n",
        "# Encode the diagnosis column\n",
        "label_encoder = LabelEncoder()\n",
        "adni_data['DX'] = label_encoder.fit_transform(adni_data['DX'])"
      ],
      "metadata": {
        "id": "nCWt6nrwfgOE"
      },
      "execution_count": 52,
      "outputs": []
    },
    {
      "cell_type": "code",
      "source": [
        "# Encode gender column if present\n",
        "adni_data['PTGENDER'] = label_encoder.fit_transform(adni_data['PTGENDER'])"
      ],
      "metadata": {
        "id": "gRTJf972fkR8"
      },
      "execution_count": 53,
      "outputs": []
    },
    {
      "cell_type": "code",
      "source": [
        "# Fill missing values with the mean of *numeric* columns\n",
        "numeric_adni_data = adni_data.select_dtypes(include=['number'])\n",
        "adni_data[numeric_adni_data.columns] = numeric_adni_data.fillna(numeric_adni_data.mean())"
      ],
      "metadata": {
        "id": "a0_3zniTnox6"
      },
      "execution_count": 54,
      "outputs": []
    },
    {
      "cell_type": "code",
      "source": [
        "# Fill missing values with the mean of the column\n",
        "adni_data.fillna(adni_data.mean(), inplace=True)\n"
      ],
      "metadata": {
        "id": "tJcJuYZufm49"
      },
      "execution_count": 55,
      "outputs": []
    },
    {
      "cell_type": "code",
      "source": [
        "# Features and target\n",
        "X = adni_data.drop('DX', axis=1)\n",
        "y = adni_data['DX']\n"
      ],
      "metadata": {
        "id": "N-14uJdMfp91"
      },
      "execution_count": 56,
      "outputs": []
    },
    {
      "cell_type": "code",
      "source": [
        "from sklearn.model_selection import train_test_split\n",
        "\n",
        "# Split the data\n",
        "X_train, X_test, y_train, y_test = train_test_split(X, y, test_size=0.2, random_state=42)\n"
      ],
      "metadata": {
        "id": "IDPKbKCYfs4s"
      },
      "execution_count": 57,
      "outputs": []
    },
    {
      "cell_type": "code",
      "source": [
        "print(X_train.shape)\n",
        "print(X_test.shape)\n",
        "print(y_train.shape)\n",
        "print(y_test.shape)"
      ],
      "metadata": {
        "colab": {
          "base_uri": "https://localhost:8080/"
        },
        "id": "EA5PzQzIfyR1",
        "outputId": "a4cf0760-c167-41f9-8942-c7eea4b43cea"
      },
      "execution_count": 58,
      "outputs": [
        {
          "output_type": "stream",
          "name": "stdout",
          "text": [
            "(3216, 6)\n",
            "(804, 6)\n",
            "(3216,)\n",
            "(804,)\n"
          ]
        }
      ]
    },
    {
      "cell_type": "code",
      "source": [
        "print(X_train.head())\n",
        "print(X_test.head())\n",
        "print(y_train.head())\n",
        "print(y_test.head())"
      ],
      "metadata": {
        "colab": {
          "base_uri": "https://localhost:8080/"
        },
        "id": "dnMY559Wf6yM",
        "outputId": "ed2310cc-0f44-44a4-ecc7-6f0da43ffaf9"
      },
      "execution_count": 59,
      "outputs": [
        {
          "output_type": "stream",
          "name": "stdout",
          "text": [
            "        AGE  PTGENDER  PTEDUCAT  MMSE  CDRSB  ADAS11\n",
            "16099  65.1         0        16  29.0    0.0    3.33\n",
            "12557  67.6         0        14  30.0    0.0    5.00\n",
            "14368  71.0         1        12  29.0    0.0    6.67\n",
            "15840  68.4         0        15  29.0    0.0    3.00\n",
            "6343   77.0         1        16  30.0    0.0   12.00\n",
            "        AGE  PTGENDER  PTEDUCAT  MMSE  CDRSB  ADAS11\n",
            "13713  77.7         0        18  26.0    0.0     3.0\n",
            "4994   77.1         0        14  27.0    0.0     4.0\n",
            "12727  66.4         1        20  29.0    0.0     6.0\n",
            "10183  70.0         0        10  30.0    0.0     2.0\n",
            "5083   73.3         1        17  30.0    0.0     8.0\n",
            "16099    0\n",
            "12557    0\n",
            "14368    0\n",
            "15840    0\n",
            "6343     0\n",
            "Name: DX, dtype: int64\n",
            "13713    0\n",
            "4994     0\n",
            "12727    0\n",
            "10183    0\n",
            "5083     0\n",
            "Name: DX, dtype: int64\n"
          ]
        }
      ]
    },
    {
      "cell_type": "code",
      "source": [
        "print(X_train.tail())\n",
        "print(y_train.tail())\n",
        "print(X_test.tail())\n",
        "print(y_test.tail())"
      ],
      "metadata": {
        "colab": {
          "base_uri": "https://localhost:8080/"
        },
        "id": "09qD-wkxgXKB",
        "outputId": "6ff75c2d-e5d6-4b4c-80ed-b5f69cd3042d"
      },
      "execution_count": 60,
      "outputs": [
        {
          "output_type": "stream",
          "name": "stdout",
          "text": [
            "        AGE  PTGENDER  PTEDUCAT  MMSE  CDRSB  ADAS11\n",
            "4579   68.4         0        18  30.0    0.0    5.00\n",
            "5428   73.3         1        20  29.0    0.5    1.33\n",
            "2534   74.2         0        13  30.0    0.0    5.33\n",
            "14801  69.0         1        20  26.0    0.0    4.67\n",
            "14172  81.1         1        18  29.0    0.0    6.33\n",
            "4579     0\n",
            "5428     0\n",
            "2534     0\n",
            "14801    0\n",
            "14172    0\n",
            "Name: DX, dtype: int64\n",
            "        AGE  PTGENDER  PTEDUCAT  MMSE  CDRSB  ADAS11\n",
            "10249  88.6         0        20  30.0    0.0    6.00\n",
            "12267  74.0         1        16  30.0    0.0    8.00\n",
            "15287  56.5         0        20  30.0    0.0    4.33\n",
            "16005  71.2         0        18  29.0    0.0    6.00\n",
            "15866  69.9         1        16  26.0    0.0    4.67\n",
            "10249    0\n",
            "12267    0\n",
            "15287    0\n",
            "16005    0\n",
            "15866    0\n",
            "Name: DX, dtype: int64\n"
          ]
        }
      ]
    },
    {
      "cell_type": "code",
      "source": [
        "print(X_test.head())"
      ],
      "metadata": {
        "colab": {
          "base_uri": "https://localhost:8080/"
        },
        "id": "LmBLx29_gLNE",
        "outputId": "de20c1e8-ef98-4e89-b52c-e721ce7f7064"
      },
      "execution_count": 62,
      "outputs": [
        {
          "output_type": "stream",
          "name": "stdout",
          "text": [
            "        AGE  PTGENDER  PTEDUCAT  MMSE  CDRSB  ADAS11\n",
            "13713  77.7         0        18  26.0    0.0     3.0\n",
            "4994   77.1         0        14  27.0    0.0     4.0\n",
            "12727  66.4         1        20  29.0    0.0     6.0\n",
            "10183  70.0         0        10  30.0    0.0     2.0\n",
            "5083   73.3         1        17  30.0    0.0     8.0\n"
          ]
        }
      ]
    },
    {
      "cell_type": "code",
      "source": [
        "from sklearn.preprocessing import StandardScaler\n",
        "\n",
        "# Standardize the features\n",
        "scaler = StandardScaler()\n",
        "X_train = scaler.fit_transform(X_train)\n",
        "X_test = scaler.transform(X_test)\n"
      ],
      "metadata": {
        "id": "6vluNAzagw8B"
      },
      "execution_count": 63,
      "outputs": []
    },
    {
      "cell_type": "code",
      "source": [
        "import tensorflow as tf\n",
        "from tensorflow.keras.models import Sequential\n",
        "from tensorflow.keras.layers import Dense, Dropout\n"
      ],
      "metadata": {
        "id": "Wxvqo5QhhU1r"
      },
      "execution_count": 64,
      "outputs": []
    },
    {
      "cell_type": "code",
      "source": [
        "# Build the neural network\n",
        "model = Sequential([\n",
        "    Dense(64, activation='relu', input_shape=(X_train.shape[1],)),\n",
        "    Dropout(0.5),\n",
        "    Dense(32, activation='relu'),\n",
        "    Dropout(0.5),\n",
        "    Dense(16, activation='relu'),\n",
        "    Dense(1, activation='sigmoid')  # Sigmoid activation for binary classification\n",
        "])\n",
        "\n",
        "# Compile the model\n",
        "model.compile(optimizer='adam',\n",
        "              loss='binary_crossentropy',\n",
        "              metrics=['accuracy'])\n"
      ],
      "metadata": {
        "id": "aYQgzIQahYnj"
      },
      "execution_count": 65,
      "outputs": []
    },
    {
      "cell_type": "code",
      "source": [
        "# Train the model\n",
        "history = model.fit(X_train, y_train, epochs=50, batch_size=32, validation_split=0.2)\n"
      ],
      "metadata": {
        "colab": {
          "base_uri": "https://localhost:8080/"
        },
        "id": "-oRp4lFmhbqJ",
        "outputId": "695a6ce5-189c-4ddb-905c-0f126cf96536"
      },
      "execution_count": 66,
      "outputs": [
        {
          "output_type": "stream",
          "name": "stdout",
          "text": [
            "Epoch 1/50\n",
            "81/81 [==============================] - 1s 5ms/step - loss: 0.2655 - accuracy: 0.9662 - val_loss: 0.0134 - val_accuracy: 1.0000\n",
            "Epoch 2/50\n",
            "81/81 [==============================] - 0s 3ms/step - loss: 0.0148 - accuracy: 1.0000 - val_loss: 9.6417e-04 - val_accuracy: 1.0000\n",
            "Epoch 3/50\n",
            "81/81 [==============================] - 0s 3ms/step - loss: 0.0043 - accuracy: 1.0000 - val_loss: 2.2913e-04 - val_accuracy: 1.0000\n",
            "Epoch 4/50\n",
            "81/81 [==============================] - 0s 3ms/step - loss: 0.0023 - accuracy: 1.0000 - val_loss: 8.0165e-05 - val_accuracy: 1.0000\n",
            "Epoch 5/50\n",
            "81/81 [==============================] - 0s 3ms/step - loss: 0.0014 - accuracy: 1.0000 - val_loss: 3.2992e-05 - val_accuracy: 1.0000\n",
            "Epoch 6/50\n",
            "81/81 [==============================] - 0s 3ms/step - loss: 9.1277e-04 - accuracy: 1.0000 - val_loss: 1.7290e-05 - val_accuracy: 1.0000\n",
            "Epoch 7/50\n",
            "81/81 [==============================] - 0s 3ms/step - loss: 6.4297e-04 - accuracy: 1.0000 - val_loss: 9.9624e-06 - val_accuracy: 1.0000\n",
            "Epoch 8/50\n",
            "81/81 [==============================] - 0s 3ms/step - loss: 5.6157e-04 - accuracy: 1.0000 - val_loss: 5.6667e-06 - val_accuracy: 1.0000\n",
            "Epoch 9/50\n",
            "81/81 [==============================] - 0s 3ms/step - loss: 3.3407e-04 - accuracy: 1.0000 - val_loss: 3.8051e-06 - val_accuracy: 1.0000\n",
            "Epoch 10/50\n",
            "81/81 [==============================] - 0s 3ms/step - loss: 2.8518e-04 - accuracy: 1.0000 - val_loss: 2.5769e-06 - val_accuracy: 1.0000\n",
            "Epoch 11/50\n",
            "81/81 [==============================] - 0s 5ms/step - loss: 2.5536e-04 - accuracy: 1.0000 - val_loss: 1.7561e-06 - val_accuracy: 1.0000\n",
            "Epoch 12/50\n",
            "81/81 [==============================] - 0s 5ms/step - loss: 2.2250e-04 - accuracy: 1.0000 - val_loss: 1.2494e-06 - val_accuracy: 1.0000\n",
            "Epoch 13/50\n",
            "81/81 [==============================] - 0s 4ms/step - loss: 2.2124e-04 - accuracy: 1.0000 - val_loss: 8.6802e-07 - val_accuracy: 1.0000\n",
            "Epoch 14/50\n",
            "81/81 [==============================] - 0s 5ms/step - loss: 2.2292e-04 - accuracy: 1.0000 - val_loss: 5.7063e-07 - val_accuracy: 1.0000\n",
            "Epoch 15/50\n",
            "81/81 [==============================] - 0s 5ms/step - loss: 1.7484e-04 - accuracy: 1.0000 - val_loss: 4.0980e-07 - val_accuracy: 1.0000\n",
            "Epoch 16/50\n",
            "81/81 [==============================] - 0s 5ms/step - loss: 1.1986e-04 - accuracy: 1.0000 - val_loss: 3.0891e-07 - val_accuracy: 1.0000\n",
            "Epoch 17/50\n",
            "81/81 [==============================] - 0s 5ms/step - loss: 1.0761e-04 - accuracy: 1.0000 - val_loss: 2.4499e-07 - val_accuracy: 1.0000\n",
            "Epoch 18/50\n",
            "81/81 [==============================] - 0s 5ms/step - loss: 9.7578e-05 - accuracy: 1.0000 - val_loss: 1.8450e-07 - val_accuracy: 1.0000\n",
            "Epoch 19/50\n",
            "81/81 [==============================] - 0s 5ms/step - loss: 1.1821e-04 - accuracy: 1.0000 - val_loss: 1.3653e-07 - val_accuracy: 1.0000\n",
            "Epoch 20/50\n",
            "81/81 [==============================] - 0s 4ms/step - loss: 1.2224e-04 - accuracy: 1.0000 - val_loss: 9.9524e-08 - val_accuracy: 1.0000\n",
            "Epoch 21/50\n",
            "81/81 [==============================] - 0s 3ms/step - loss: 4.5553e-05 - accuracy: 1.0000 - val_loss: 8.3666e-08 - val_accuracy: 1.0000\n",
            "Epoch 22/50\n",
            "81/81 [==============================] - 0s 3ms/step - loss: 5.1622e-05 - accuracy: 1.0000 - val_loss: 7.0541e-08 - val_accuracy: 1.0000\n",
            "Epoch 23/50\n",
            "81/81 [==============================] - 0s 3ms/step - loss: 4.2778e-05 - accuracy: 1.0000 - val_loss: 5.7765e-08 - val_accuracy: 1.0000\n",
            "Epoch 24/50\n",
            "81/81 [==============================] - 0s 3ms/step - loss: 6.6268e-05 - accuracy: 1.0000 - val_loss: 4.5238e-08 - val_accuracy: 1.0000\n",
            "Epoch 25/50\n",
            "81/81 [==============================] - 0s 3ms/step - loss: 6.1619e-05 - accuracy: 1.0000 - val_loss: 3.5225e-08 - val_accuracy: 1.0000\n",
            "Epoch 26/50\n",
            "81/81 [==============================] - 0s 3ms/step - loss: 4.5433e-05 - accuracy: 1.0000 - val_loss: 2.8446e-08 - val_accuracy: 1.0000\n",
            "Epoch 27/50\n",
            "81/81 [==============================] - 0s 3ms/step - loss: 4.4369e-05 - accuracy: 1.0000 - val_loss: 2.2974e-08 - val_accuracy: 1.0000\n",
            "Epoch 28/50\n",
            "81/81 [==============================] - 0s 3ms/step - loss: 5.9979e-05 - accuracy: 1.0000 - val_loss: 1.7576e-08 - val_accuracy: 1.0000\n",
            "Epoch 29/50\n",
            "81/81 [==============================] - 0s 3ms/step - loss: 5.3635e-05 - accuracy: 1.0000 - val_loss: 1.3841e-08 - val_accuracy: 1.0000\n",
            "Epoch 30/50\n",
            "81/81 [==============================] - 0s 3ms/step - loss: 3.2270e-05 - accuracy: 1.0000 - val_loss: 1.1495e-08 - val_accuracy: 1.0000\n",
            "Epoch 31/50\n",
            "81/81 [==============================] - 0s 3ms/step - loss: 4.6134e-05 - accuracy: 1.0000 - val_loss: 9.5713e-09 - val_accuracy: 1.0000\n",
            "Epoch 32/50\n",
            "81/81 [==============================] - 1s 7ms/step - loss: 2.7914e-05 - accuracy: 1.0000 - val_loss: 7.8661e-09 - val_accuracy: 1.0000\n",
            "Epoch 33/50\n",
            "81/81 [==============================] - 1s 7ms/step - loss: 1.9755e-05 - accuracy: 1.0000 - val_loss: 6.8689e-09 - val_accuracy: 1.0000\n",
            "Epoch 34/50\n",
            "81/81 [==============================] - 1s 9ms/step - loss: 3.2699e-05 - accuracy: 1.0000 - val_loss: 5.8139e-09 - val_accuracy: 1.0000\n",
            "Epoch 35/50\n",
            "81/81 [==============================] - 1s 8ms/step - loss: 1.3851e-05 - accuracy: 1.0000 - val_loss: 4.9612e-09 - val_accuracy: 1.0000\n",
            "Epoch 36/50\n",
            "81/81 [==============================] - 0s 6ms/step - loss: 4.0691e-05 - accuracy: 1.0000 - val_loss: 3.9079e-09 - val_accuracy: 1.0000\n",
            "Epoch 37/50\n",
            "81/81 [==============================] - 1s 11ms/step - loss: 6.2399e-05 - accuracy: 1.0000 - val_loss: 2.6765e-09 - val_accuracy: 1.0000\n",
            "Epoch 38/50\n",
            "81/81 [==============================] - 1s 7ms/step - loss: 1.4448e-05 - accuracy: 1.0000 - val_loss: 2.3204e-09 - val_accuracy: 1.0000\n",
            "Epoch 39/50\n",
            "81/81 [==============================] - 1s 7ms/step - loss: 1.3114e-05 - accuracy: 1.0000 - val_loss: 2.0456e-09 - val_accuracy: 1.0000\n",
            "Epoch 40/50\n",
            "81/81 [==============================] - 1s 10ms/step - loss: 2.4307e-05 - accuracy: 1.0000 - val_loss: 1.6983e-09 - val_accuracy: 1.0000\n",
            "Epoch 41/50\n",
            "81/81 [==============================] - 1s 9ms/step - loss: 7.7214e-06 - accuracy: 1.0000 - val_loss: 1.5252e-09 - val_accuracy: 1.0000\n",
            "Epoch 42/50\n",
            "81/81 [==============================] - 1s 7ms/step - loss: 2.0608e-05 - accuracy: 1.0000 - val_loss: 1.2495e-09 - val_accuracy: 1.0000\n",
            "Epoch 43/50\n",
            "81/81 [==============================] - 1s 10ms/step - loss: 2.3955e-05 - accuracy: 1.0000 - val_loss: 9.9230e-10 - val_accuracy: 1.0000\n",
            "Epoch 44/50\n",
            "81/81 [==============================] - 0s 4ms/step - loss: 7.4139e-06 - accuracy: 1.0000 - val_loss: 9.0070e-10 - val_accuracy: 1.0000\n",
            "Epoch 45/50\n",
            "81/81 [==============================] - 0s 5ms/step - loss: 4.7642e-06 - accuracy: 1.0000 - val_loss: 8.3047e-10 - val_accuracy: 1.0000\n",
            "Epoch 46/50\n",
            "81/81 [==============================] - 0s 4ms/step - loss: 8.1465e-06 - accuracy: 1.0000 - val_loss: 7.3470e-10 - val_accuracy: 1.0000\n",
            "Epoch 47/50\n",
            "81/81 [==============================] - 0s 5ms/step - loss: 1.5743e-05 - accuracy: 1.0000 - val_loss: 6.1139e-10 - val_accuracy: 1.0000\n",
            "Epoch 48/50\n",
            "81/81 [==============================] - 0s 5ms/step - loss: 3.2654e-05 - accuracy: 1.0000 - val_loss: 4.3340e-10 - val_accuracy: 1.0000\n",
            "Epoch 49/50\n",
            "81/81 [==============================] - 0s 4ms/step - loss: 6.4222e-06 - accuracy: 1.0000 - val_loss: 3.6103e-10 - val_accuracy: 1.0000\n",
            "Epoch 50/50\n",
            "81/81 [==============================] - 0s 4ms/step - loss: 1.9965e-05 - accuracy: 1.0000 - val_loss: 2.9037e-10 - val_accuracy: 1.0000\n"
          ]
        }
      ]
    },
    {
      "cell_type": "code",
      "source": [
        "# Evaluate the model\n",
        "test_loss, test_accuracy = model.evaluate(X_test, y_test)\n",
        "print(f'Test Accuracy: {test_accuracy:.2f}')\n"
      ],
      "metadata": {
        "colab": {
          "base_uri": "https://localhost:8080/"
        },
        "id": "HVmIREu3hnSG",
        "outputId": "11d46016-5a0b-4df1-8b15-9e11bf72e650"
      },
      "execution_count": 67,
      "outputs": [
        {
          "output_type": "stream",
          "name": "stdout",
          "text": [
            "26/26 [==============================] - 0s 2ms/step - loss: 2.9418e-10 - accuracy: 1.0000\n",
            "Test Accuracy: 1.00\n"
          ]
        }
      ]
    },
    {
      "cell_type": "code",
      "source": [
        "import matplotlib.pyplot as plt\n",
        "\n",
        "# Plot training & validation accuracy values\n",
        "plt.plot(history.history['accuracy'])\n",
        "plt.plot(history.history['val_accuracy'])\n",
        "plt.title('Model accuracy')\n",
        "plt.xlabel('Epoch')\n",
        "plt.ylabel('Accuracy')\n",
        "plt.legend(['Train', 'Validation'], loc='upper left')\n",
        "plt.show()\n",
        "\n",
        "# Plot training & validation loss values\n",
        "plt.plot(history.history['loss'])\n",
        "plt.plot(history.history['val_loss'])\n",
        "plt.title('Model loss')\n",
        "plt.xlabel('Epoch')\n",
        "plt.ylabel('Loss')\n",
        "plt.legend(['Train', 'Validation'], loc='upper left')\n",
        "plt.show()\n"
      ],
      "metadata": {
        "colab": {
          "base_uri": "https://localhost:8080/",
          "height": 927
        },
        "id": "nc5ZtQdyhvbD",
        "outputId": "10d0e930-f47d-417c-9d34-9f5807e17834"
      },
      "execution_count": 68,
      "outputs": [
        {
          "output_type": "display_data",
          "data": {
            "text/plain": [
              "<Figure size 640x480 with 1 Axes>"
            ],
            "image/png": "[encoded data removed]"
          },
          "metadata": {}
        },
        {
          "output_type": "display_data",
          "data": {
            "text/plain": [
              "<Figure size 640x480 with 1 Axes>"
            ],
            "image/png": "[encoded data removed]"
          },
          "metadata": {}
        }
      ]
    }
  ]
}